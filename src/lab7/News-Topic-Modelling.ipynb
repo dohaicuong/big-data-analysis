{
 "cells": [
  {
   "cell_type": "markdown",
   "metadata": {},
   "source": [
    "# Topic Modelling for News"
   ]
  },
  {
   "cell_type": "markdown",
   "metadata": {},
   "source": [
    "![](https://images.unsplash.com/photo-1495020689067-958852a7765e?ixlib=rb-1.2.1&ixid=eyJhcHBfaWQiOjEyMDd9&auto=format&fit=crop&w=1050&q=80)\n",
    "\n",
    "Photo by [Roman Kraft](https://unsplash.com/photos/_Zua2hyvTBk)"
   ]
  },
  {
   "cell_type": "markdown",
   "metadata": {},
   "source": [
    "This exercise is about modelling the main topics of a database of News headlines."
   ]
  },
  {
   "cell_type": "markdown",
   "metadata": {},
   "source": [
    "Begin by importing the needed libraries:"
   ]
  },
  {
   "cell_type": "code",
   "execution_count": 12,
   "metadata": {},
   "outputs": [
    {
     "name": "stderr",
     "output_type": "stream",
     "text": [
      "[nltk_data] Downloading package punkt to /home/jovyan/nltk_data...\n",
      "[nltk_data]   Package punkt is already up-to-date!\n",
      "[nltk_data] Downloading package stopwords to /home/jovyan/nltk_data...\n",
      "[nltk_data]   Unzipping corpora/stopwords.zip.\n"
     ]
    },
    {
     "data": {
      "text/plain": [
       "True"
      ]
     },
     "execution_count": 12,
     "metadata": {},
     "output_type": "execute_result"
    }
   ],
   "source": [
    "# TODO: import needed libraries\n",
    "import nltk\n",
    "import numpy as np\n",
    "import pandas as pd\n",
    "\n",
    "nltk.download('punkt')\n",
    "nltk.download('stopwords')"
   ]
  },
  {
   "cell_type": "markdown",
   "metadata": {},
   "source": [
    "Load the data in the file `random_headlines.csv`"
   ]
  },
  {
   "cell_type": "code",
   "execution_count": 4,
   "metadata": {
    "scrolled": true
   },
   "outputs": [
    {
     "name": "stdout",
     "output_type": "stream",
     "text": [
      "(20000, 2)\n"
     ]
    },
    {
     "data": {
      "text/html": [
       "<div>\n",
       "<style scoped>\n",
       "    .dataframe tbody tr th:only-of-type {\n",
       "        vertical-align: middle;\n",
       "    }\n",
       "\n",
       "    .dataframe tbody tr th {\n",
       "        vertical-align: top;\n",
       "    }\n",
       "\n",
       "    .dataframe thead th {\n",
       "        text-align: right;\n",
       "    }\n",
       "</style>\n",
       "<table border=\"1\" class=\"dataframe\">\n",
       "  <thead>\n",
       "    <tr style=\"text-align: right;\">\n",
       "      <th></th>\n",
       "      <th>publish_date</th>\n",
       "      <th>headline_text</th>\n",
       "    </tr>\n",
       "  </thead>\n",
       "  <tbody>\n",
       "    <tr>\n",
       "      <th>0</th>\n",
       "      <td>20120305</td>\n",
       "      <td>ute driver hurt in intersection crash</td>\n",
       "    </tr>\n",
       "    <tr>\n",
       "      <th>1</th>\n",
       "      <td>20081128</td>\n",
       "      <td>6yo dies in cycling accident</td>\n",
       "    </tr>\n",
       "    <tr>\n",
       "      <th>2</th>\n",
       "      <td>20090325</td>\n",
       "      <td>bumper olive harvest expected</td>\n",
       "    </tr>\n",
       "    <tr>\n",
       "      <th>3</th>\n",
       "      <td>20100201</td>\n",
       "      <td>replica replaces northernmost sign</td>\n",
       "    </tr>\n",
       "    <tr>\n",
       "      <th>4</th>\n",
       "      <td>20080225</td>\n",
       "      <td>woods targets perfect season</td>\n",
       "    </tr>\n",
       "  </tbody>\n",
       "</table>\n",
       "</div>"
      ],
      "text/plain": [
       "   publish_date                          headline_text\n",
       "0      20120305  ute driver hurt in intersection crash\n",
       "1      20081128           6yo dies in cycling accident\n",
       "2      20090325          bumper olive harvest expected\n",
       "3      20100201     replica replaces northernmost sign\n",
       "4      20080225           woods targets perfect season"
      ]
     },
     "execution_count": 4,
     "metadata": {},
     "output_type": "execute_result"
    }
   ],
   "source": [
    "# TODO: load the dataset\n",
    "df = pd.read_csv('random_headlines.csv')\n",
    "print(df.shape)\n",
    "df.head(5)"
   ]
  },
  {
   "cell_type": "markdown",
   "metadata": {},
   "source": [
    "This is always a good idea to perform some EDA (exploratory data analytics) on a dataset..."
   ]
  },
  {
   "cell_type": "code",
   "execution_count": 5,
   "metadata": {},
   "outputs": [
    {
     "name": "stdout",
     "output_type": "stream",
     "text": [
      "<class 'pandas.core.frame.DataFrame'>\n",
      "RangeIndex: 20000 entries, 0 to 19999\n",
      "Data columns (total 2 columns):\n",
      " #   Column         Non-Null Count  Dtype \n",
      "---  ------         --------------  ----- \n",
      " 0   publish_date   20000 non-null  int64 \n",
      " 1   headline_text  20000 non-null  object\n",
      "dtypes: int64(1), object(1)\n",
      "memory usage: 312.6+ KB\n"
     ]
    }
   ],
   "source": [
    "# TODO: Perform a short EDA\n",
    "df.info()"
   ]
  },
  {
   "cell_type": "markdown",
   "metadata": {},
   "source": [
    "Now perform all the needed preprocessing on those headlines: case lowering, tokenization, punctuation removal, stopwords removal, stemming/lemmatization."
   ]
  },
  {
   "cell_type": "code",
   "execution_count": 15,
   "metadata": {},
   "outputs": [
    {
     "data": {
      "text/plain": [
       "0    [ute, driver, hurt, intersect, crash]\n",
       "1                       [die, cycl, accid]\n",
       "2          [bumper, oliv, harvest, expect]\n",
       "3    [replica, replac, northernmost, sign]\n",
       "4          [wood, target, perfect, season]\n",
       "Name: stemmed, dtype: object"
      ]
     },
     "execution_count": 15,
     "metadata": {},
     "output_type": "execute_result"
    }
   ],
   "source": [
    "# TODO: Preprocess the input data\n",
    "\n",
    "df['tokens'] = df['headline_text'].apply(lambda row: nltk.word_tokenize(row))\n",
    "\n",
    "df['alphanumeric'] = df['tokens'].apply(lambda row: [word for word in row if word.isalpha()])\n",
    "\n",
    "from nltk.corpus import stopwords\n",
    "stop = stopwords.words('english')\n",
    "df['stop'] = df['alphanumeric'].apply(lambda row: [word for word in row if word not in stop])\n",
    "\n",
    "stemmer = nltk.PorterStemmer()\n",
    "df['stemmed'] = df['stop'].apply(lambda row: [stemmer.stem(word) for word in row])\n",
    "\n",
    "df['stemmed'].head()"
   ]
  },
  {
   "cell_type": "markdown",
   "metadata": {},
   "source": [
    "Now use Gensim to compute a BOW"
   ]
  },
  {
   "cell_type": "code",
   "execution_count": 21,
   "metadata": {},
   "outputs": [
    {
     "name": "stdout",
     "output_type": "stream",
     "text": [
      "(20000,)\n"
     ]
    },
    {
     "data": {
      "text/plain": [
       "[[(0, 1), (1, 1), (2, 1), (3, 1), (4, 1)], [(5, 1), (6, 1), (7, 1)]]"
      ]
     },
     "execution_count": 21,
     "metadata": {},
     "output_type": "execute_result"
    }
   ],
   "source": [
    "# TODO: Compute the BOW using Gensim\n",
    "from gensim.corpora import Dictionary\n",
    "\n",
    "dictionary = Dictionary(df['stemmed'])\n",
    "corpus = [dictionary.doc2bow(line) for line in df['stemmed']]\n",
    "\n",
    "print(np.shape(corpus))\n",
    "corpus[0:2]"
   ]
  },
  {
   "cell_type": "markdown",
   "metadata": {},
   "source": [
    "Compute the TF-IDF using Gensim"
   ]
  },
  {
   "cell_type": "code",
   "execution_count": 23,
   "metadata": {},
   "outputs": [
    {
     "name": "stdout",
     "output_type": "stream",
     "text": [
      "(20000,)\n"
     ]
    }
   ],
   "source": [
    "# TODO: Compute TF-IDF\n",
    "from gensim.models import TfidfModel\n",
    "\n",
    "tfidf_model = TfidfModel(corpus)\n",
    "tf_idf = tfidf_model[corpus]\n",
    "\n",
    "print(np.shape(tf_idf))"
   ]
  },
  {
   "cell_type": "markdown",
   "metadata": {},
   "source": [
    "Finally compute the **LSA** (also called LSI) using Gensim, for a given number of Topics that you choose yourself"
   ]
  },
  {
   "cell_type": "code",
   "execution_count": 25,
   "metadata": {},
   "outputs": [],
   "source": [
    "# TODO: Compute LSA\n",
    "from gensim.models import LsiModel\n",
    "\n",
    "lsi = LsiModel(corpus=corpus, num_topics=4, id2word=dictionary)"
   ]
  },
  {
   "cell_type": "markdown",
   "metadata": {},
   "source": [
    "For each of the topic, show the most significant words."
   ]
  },
  {
   "cell_type": "code",
   "execution_count": 26,
   "metadata": {},
   "outputs": [
    {
     "data": {
      "text/plain": [
       "[(0, '0.752*\"polic\" + 0.404*\"man\" + 0.208*\"charg\"'),\n",
       " (1, '-0.669*\"man\" + 0.574*\"polic\" + -0.329*\"charg\"'),\n",
       " (2, '-0.655*\"new\" + -0.299*\"plan\" + 0.242*\"man\"'),\n",
       " (3, '0.702*\"new\" + -0.345*\"say\" + -0.336*\"plan\"')]"
      ]
     },
     "execution_count": 26,
     "metadata": {},
     "output_type": "execute_result"
    }
   ],
   "source": [
    "# TODO: Print the 3 or 4 most significant words of each topic\n",
    "lsi.print_topics(num_words=3)"
   ]
  },
  {
   "cell_type": "markdown",
   "metadata": {},
   "source": [
    "What do you think about those results?"
   ]
  },
  {
   "cell_type": "markdown",
   "metadata": {},
   "source": [
    "Now let's try to use LDA instead of LSA using Gensim"
   ]
  },
  {
   "cell_type": "code",
   "execution_count": 34,
   "metadata": {},
   "outputs": [],
   "source": [
    "# TODO: Compute LDA\n",
    "from gensim.models import LdaModel\n",
    "\n",
    "lda = LdaModel(corpus=corpus, num_topics=4, id2word=dictionary, random_state=0, chunksize=512, passes=5)"
   ]
  },
  {
   "cell_type": "code",
   "execution_count": 35,
   "metadata": {
    "scrolled": true
   },
   "outputs": [
    {
     "data": {
      "text/plain": [
       "[(0, '0.016*\"report\" + 0.009*\"back\" + 0.009*\"may\"'),\n",
       " (1, '0.012*\"mine\" + 0.011*\"polic\" + 0.009*\"elect\"'),\n",
       " (2, '0.013*\"question\" + 0.010*\"council\" + 0.010*\"fund\"'),\n",
       " (3, '0.012*\"sydney\" + 0.012*\"charg\" + 0.011*\"australian\"')]"
      ]
     },
     "execution_count": 35,
     "metadata": {},
     "output_type": "execute_result"
    }
   ],
   "source": [
    "# TODO: print the most frequent words of each topic\n",
    "lda.print_topics(num_words=3)"
   ]
  },
  {
   "cell_type": "markdown",
   "metadata": {},
   "source": [
    "Now, how does it work with LDA?"
   ]
  },
  {
   "cell_type": "markdown",
   "metadata": {},
   "source": [
    "Let's make some visualization of the LDA results using pyLDAvis."
   ]
  },
  {
   "cell_type": "code",
   "execution_count": 46,
   "metadata": {},
   "outputs": [
    {
     "name": "stderr",
     "output_type": "stream",
     "text": [
      "/opt/conda/lib/python3.9/site-packages/pyLDAvis/_prepare.py:246: FutureWarning: In a future version of pandas all arguments of DataFrame.drop except for the argument 'labels' will be keyword-only\n",
      "  default_term_info = default_term_info.sort_values(\n"
     ]
    },
    {
     "data": {
      "text/html": [
       "\n",
       "<link rel=\"stylesheet\" type=\"text/css\" href=\"https://cdn.jsdelivr.net/gh/bmabey/pyLDAvis@3.3.1/pyLDAvis/js/ldavis.v1.0.0.css\">\n",
       "\n",
       "\n",
       "<div id=\"ldavis_el501403189070621926189191570\"></div>\n",
       "<script type=\"text/javascript\">\n",
       "\n",
       "var ldavis_el501403189070621926189191570_data = {\"mdsDat\": {\"x\": [0.22849447656453575, 0.1496268208648958, -0.21956875110310384, -0.15855254632632756], \"y\": [-0.028622408990006145, -0.010718913773652831, -0.2357007667701099, 0.27504208953376885], \"topics\": [1, 2, 3, 4], \"cluster\": [1, 1, 1, 1], \"Freq\": [26.892767318638317, 26.673315341655034, 23.91931239832207, 22.514604941384576]}, \"tinfo\": {\"Term\": [\"report\", \"question\", \"mine\", \"sydney\", \"charg\", \"council\", \"australian\", \"fund\", \"interview\", \"elect\", \"back\", \"win\", \"may\", \"labor\", \"trial\", \"union\", \"road\", \"cut\", \"call\", \"govern\", \"final\", \"lead\", \"stori\", \"begin\", \"want\", \"urg\", \"warn\", \"govt\", \"forc\", \"attack\", \"question\", \"council\", \"fund\", \"cut\", \"govern\", \"urg\", \"forc\", \"set\", \"want\", \"aussi\", \"support\", \"concern\", \"farmer\", \"approv\", \"group\", \"doctor\", \"claim\", \"hospit\", \"school\", \"mp\", \"citi\", \"coast\", \"team\", \"figur\", \"ban\", \"reduc\", \"titl\", \"men\", \"job\", \"seek\", \"disput\", \"draw\", \"next\", \"drug\", \"govt\", \"plan\", \"new\", \"say\", \"wa\", \"fear\", \"polic\", \"chang\", \"mine\", \"elect\", \"win\", \"road\", \"final\", \"warn\", \"commun\", \"club\", \"run\", \"rise\", \"station\", \"student\", \"drought\", \"perth\", \"woman\", \"rate\", \"found\", \"search\", \"debat\", \"stage\", \"fall\", \"turnbul\", \"held\", \"record\", \"minist\", \"world\", \"injuri\", \"telstra\", \"countri\", \"review\", \"qld\", \"econom\", \"friday\", \"eye\", \"debt\", \"polic\", \"call\", \"water\", \"help\", \"health\", \"take\", \"trade\", \"futur\", \"miss\", \"hit\", \"sydney\", \"charg\", \"australian\", \"interview\", \"trial\", \"stori\", \"lead\", \"murder\", \"market\", \"open\", \"shoot\", \"accus\", \"leav\", \"day\", \"test\", \"two\", \"busi\", \"success\", \"olymp\", \"bu\", \"risk\", \"point\", \"board\", \"arm\", \"pull\", \"full\", \"second\", \"appoint\", \"hope\", \"fourth\", \"latest\", \"sieg\", \"line\", \"sold\", \"man\", \"melbourn\", \"polic\", \"court\", \"us\", \"report\", \"back\", \"may\", \"labor\", \"union\", \"begin\", \"blaze\", \"car\", \"die\", \"drum\", \"work\", \"news\", \"pole\", \"dead\", \"judg\", \"abc\", \"great\", \"rural\", \"collaps\", \"resid\", \"state\", \"train\", \"garrett\", \"iraq\", \"pakistan\", \"big\", \"fail\", \"deni\", \"former\", \"bid\", \"italian\", \"singapor\", \"lock\", \"sunday\", \"paint\", \"attack\", \"pay\", \"crash\", \"call\", \"kill\", \"man\", \"us\"], \"Freq\": [373.0, 354.0, 336.0, 298.0, 284.0, 284.0, 259.0, 264.0, 229.0, 235.0, 203.0, 229.0, 202.0, 190.0, 195.0, 183.0, 206.0, 206.0, 366.0, 199.0, 195.0, 176.0, 175.0, 167.0, 188.0, 183.0, 179.0, 343.0, 180.0, 230.0, 353.6564204395162, 283.8475609288012, 264.163871582057, 206.04245877079353, 198.96311364596957, 182.6897660937764, 179.83476353737063, 172.319253882858, 187.93639537542114, 167.18698144467723, 162.57455021537635, 147.4863332131591, 142.85455343804804, 142.52570524511418, 135.90209160566877, 138.26869112822627, 132.43110895041107, 127.6385281133075, 120.16086760617661, 119.46610577896594, 124.82485641471811, 115.4276171705017, 124.99844087849094, 122.94942216860466, 112.59363335310357, 119.99920575230543, 134.99724516950147, 120.29676994188743, 107.57168359943302, 105.92264404123111, 112.26039126729647, 109.14043183157851, 109.45871926444862, 166.94193840733436, 232.0785095340806, 208.70991147876796, 221.3401179999684, 162.20052972027202, 147.61890801011506, 133.9263686818697, 172.32318526069193, 127.4950071270884, 335.97092779555203, 234.93140697211425, 228.468845033705, 206.0722273646564, 194.37084553304157, 179.2113099228754, 147.21565577743849, 150.34314664149093, 155.48273835190713, 140.19991615274802, 137.6428057548363, 146.0248538699658, 152.7462857882604, 145.53466384357003, 127.96104302152378, 126.62967528839933, 120.22514406071606, 116.99270349672092, 111.62939919133218, 117.16852864968466, 109.05685726274652, 115.3059773028993, 113.8645117786742, 102.20624521050716, 102.14463377301045, 100.66404148170497, 116.17866795377054, 111.8778455609027, 95.22566297072949, 95.7045501336176, 167.03562833633495, 115.55778777164232, 111.9694025781548, 113.38545895938745, 104.52493782236644, 291.3673562911055, 185.10877965710068, 129.43521931308166, 137.64597871201036, 123.09162415450062, 125.75915091351038, 121.02401567179031, 121.7144205701506, 118.86816329980084, 118.59437150123736, 298.2143960948814, 283.7156740242356, 258.84956577510764, 229.11118757087414, 194.49722554851462, 175.10932139424463, 175.72691119013848, 163.8469522308199, 152.2659037159559, 146.69732257754745, 141.03292508938938, 136.23958220974257, 133.54885113529988, 130.04273835109132, 122.43675994630064, 121.85073183889915, 114.17899039382115, 110.28429860266719, 110.43403950274107, 104.85083165858673, 113.7580840817545, 103.39446885084739, 104.28217276425853, 102.28001671703286, 97.05859129781282, 100.93639381467578, 93.30105915436849, 97.18398101824252, 95.90241877128082, 99.42807192019683, 101.52273045415158, 99.22529778468011, 99.90641090654395, 98.87706791678852, 229.20646684627218, 125.23905393339759, 217.13586934636044, 145.12620869238583, 113.4362051384333, 373.0616193105953, 202.46770359616787, 201.5638094637261, 189.39615276441384, 182.60406104152452, 166.60782605718865, 154.32423005979473, 134.54368862927967, 120.66072405147469, 121.39425335022915, 114.25477397448306, 109.06207234407422, 114.69109252227804, 106.26920339679812, 113.36856276309578, 101.14531887642978, 105.96019327576762, 93.39029314660476, 119.81827914530072, 90.9284196552955, 91.32022973148257, 89.96113483232178, 94.83170935737776, 79.60562796996575, 79.37439473588474, 75.22619012357711, 74.03198523643894, 72.51416353314131, 71.7734653372562, 71.99423294956956, 104.85284874688702, 103.55956464606676, 99.87875276581593, 96.69492346909443, 92.90628234092927, 187.1836794498018, 135.0687229513188, 156.61071564920962, 181.2086591472181, 143.07349305095158, 112.8383332762943, 100.27646790505585], \"Total\": [373.0, 354.0, 336.0, 298.0, 284.0, 284.0, 259.0, 264.0, 229.0, 235.0, 203.0, 229.0, 202.0, 190.0, 195.0, 183.0, 206.0, 206.0, 366.0, 199.0, 195.0, 176.0, 175.0, 167.0, 188.0, 183.0, 179.0, 343.0, 180.0, 230.0, 354.44297367652047, 284.54896934708637, 264.90566689161136, 206.76313005673094, 199.68132523753732, 183.38961648764882, 180.55910541574335, 173.03336061971166, 188.72923643507684, 167.91717073741432, 163.302520371466, 148.18959663707076, 143.5555446592705, 143.25262374242388, 136.6030209868955, 138.98663571685736, 133.13920705854383, 128.3476929224922, 120.86780160449442, 120.174037773133, 125.57557062285007, 116.12356622850321, 125.75221813808685, 123.71434131339257, 113.30043416153694, 120.75365884107096, 135.8530459914772, 121.06809712057525, 108.26997794947071, 106.63453544219634, 113.03626045727142, 109.93284215465293, 110.34566271690959, 205.2426046408258, 343.3594053642128, 322.7045838211111, 442.1728396401181, 329.5328252027675, 254.58719633930207, 184.55324572170315, 698.4248930466927, 169.19483523657004, 336.71897402926805, 235.65337935138535, 229.18626885710145, 206.79088316720697, 195.0892088477399, 179.92897529273355, 147.9255577242638, 151.08450863543922, 156.26002889109176, 140.90333324546253, 138.36361435050856, 146.79477581951514, 153.55481713861963, 146.30881764119766, 128.67635382803545, 127.35459599966656, 120.93827351821595, 117.7013898447963, 112.33490982982718, 117.91207564159555, 109.76851983729064, 116.06828314848595, 114.63454254383237, 102.91524475646338, 102.85335073572507, 101.37136701669274, 117.01347868197269, 112.69946139845332, 95.92640464210164, 96.41735819717199, 168.45172523473357, 116.47668856942298, 112.88292864390675, 114.38324155322205, 105.56943862191333, 698.4248930466927, 366.7936287797901, 180.51531765098812, 224.35568491677392, 164.41091568073435, 195.05868583583526, 161.49002673463022, 176.484232148925, 166.2077480761506, 182.09339419671534, 298.94059333412963, 284.4328899649487, 259.6213289841671, 229.82001991116013, 195.2324557944166, 175.84259854538746, 176.46740546041718, 164.56129507170783, 152.9902745624507, 147.4248481551107, 141.76185494438602, 136.96626195086355, 134.27445237733178, 130.76037529085173, 123.15796841882052, 122.58153218321324, 114.9105708034829, 111.0147923004074, 111.18023120618747, 105.5843973385643, 114.57705117588935, 104.15299659232105, 105.0484151034408, 103.03434225137258, 97.77739054340485, 101.69681006506282, 94.01184616684576, 97.92688851834778, 96.63600846316335, 100.19389343317998, 102.3264318234948, 100.00107515747746, 100.73431944847768, 99.8451272641649, 385.3885904630057, 150.85418454535568, 698.4248930466927, 257.28633953079014, 214.1938577915049, 373.78201864280373, 203.1723240523899, 202.26711062882617, 190.1518554087836, 183.34302591845247, 167.32106354990066, 155.06395539649273, 135.23902005118336, 121.34964429440993, 122.09483951753451, 114.95421796814985, 109.74890599119868, 115.41355730200043, 106.96675615909525, 114.1174866100505, 101.82992374966217, 106.67915321471578, 94.08043706697313, 120.70912352101772, 91.62708476751237, 92.02673172624576, 90.66812740156473, 95.60889579043607, 80.29667254859508, 80.0831808780642, 75.93296448057343, 74.72906245833522, 73.21475977904655, 72.47327392796689, 72.70282088778224, 105.9425664970719, 104.63536003835591, 101.02642975644741, 97.94419439218277, 94.8263227546166, 230.0149942667074, 162.4232738744109, 201.363918959212, 366.7936287797901, 228.63166277031155, 385.3885904630057, 214.1938577915049], \"Category\": [\"Default\", \"Default\", \"Default\", \"Default\", \"Default\", \"Default\", \"Default\", \"Default\", \"Default\", \"Default\", \"Default\", \"Default\", \"Default\", \"Default\", \"Default\", \"Default\", \"Default\", \"Default\", \"Default\", \"Default\", \"Default\", \"Default\", \"Default\", \"Default\", \"Default\", \"Default\", \"Default\", \"Default\", \"Default\", \"Default\", \"Topic1\", \"Topic1\", \"Topic1\", \"Topic1\", \"Topic1\", \"Topic1\", \"Topic1\", \"Topic1\", \"Topic1\", \"Topic1\", \"Topic1\", \"Topic1\", \"Topic1\", \"Topic1\", \"Topic1\", \"Topic1\", \"Topic1\", \"Topic1\", \"Topic1\", \"Topic1\", \"Topic1\", \"Topic1\", \"Topic1\", \"Topic1\", \"Topic1\", \"Topic1\", \"Topic1\", \"Topic1\", \"Topic1\", \"Topic1\", \"Topic1\", \"Topic1\", \"Topic1\", \"Topic1\", \"Topic1\", \"Topic1\", \"Topic1\", \"Topic1\", \"Topic1\", \"Topic1\", \"Topic1\", \"Topic1\", \"Topic2\", \"Topic2\", \"Topic2\", \"Topic2\", \"Topic2\", \"Topic2\", \"Topic2\", \"Topic2\", \"Topic2\", \"Topic2\", \"Topic2\", \"Topic2\", \"Topic2\", \"Topic2\", \"Topic2\", \"Topic2\", \"Topic2\", \"Topic2\", \"Topic2\", \"Topic2\", \"Topic2\", \"Topic2\", \"Topic2\", \"Topic2\", \"Topic2\", \"Topic2\", \"Topic2\", \"Topic2\", \"Topic2\", \"Topic2\", \"Topic2\", \"Topic2\", \"Topic2\", \"Topic2\", \"Topic2\", \"Topic2\", \"Topic2\", \"Topic2\", \"Topic2\", \"Topic2\", \"Topic2\", \"Topic2\", \"Topic2\", \"Topic2\", \"Topic2\", \"Topic3\", \"Topic3\", \"Topic3\", \"Topic3\", \"Topic3\", \"Topic3\", \"Topic3\", \"Topic3\", \"Topic3\", \"Topic3\", \"Topic3\", \"Topic3\", \"Topic3\", \"Topic3\", \"Topic3\", \"Topic3\", \"Topic3\", \"Topic3\", \"Topic3\", \"Topic3\", \"Topic3\", \"Topic3\", \"Topic3\", \"Topic3\", \"Topic3\", \"Topic3\", \"Topic3\", \"Topic3\", \"Topic3\", \"Topic3\", \"Topic3\", \"Topic3\", \"Topic3\", \"Topic3\", \"Topic3\", \"Topic3\", \"Topic3\", \"Topic3\", \"Topic3\", \"Topic4\", \"Topic4\", \"Topic4\", \"Topic4\", \"Topic4\", \"Topic4\", \"Topic4\", \"Topic4\", \"Topic4\", \"Topic4\", \"Topic4\", \"Topic4\", \"Topic4\", \"Topic4\", \"Topic4\", \"Topic4\", \"Topic4\", \"Topic4\", \"Topic4\", \"Topic4\", \"Topic4\", \"Topic4\", \"Topic4\", \"Topic4\", \"Topic4\", \"Topic4\", \"Topic4\", \"Topic4\", \"Topic4\", \"Topic4\", \"Topic4\", \"Topic4\", \"Topic4\", \"Topic4\", \"Topic4\", \"Topic4\", \"Topic4\", \"Topic4\", \"Topic4\", \"Topic4\", \"Topic4\", \"Topic4\"], \"logprob\": [30.0, 29.0, 28.0, 27.0, 26.0, 25.0, 24.0, 23.0, 22.0, 21.0, 20.0, 19.0, 18.0, 17.0, 16.0, 15.0, 14.0, 13.0, 12.0, 11.0, 10.0, 9.0, 8.0, 7.0, 6.0, 5.0, 4.0, 3.0, 2.0, 1.0, -4.3569, -4.5768, -4.6486, -4.8971, -4.9321, -5.0174, -5.0332, -5.0759, -4.9891, -5.1061, -5.1341, -5.2315, -5.2634, -5.2657, -5.3133, -5.296, -5.3391, -5.376, -5.4364, -5.4422, -5.3983, -5.4766, -5.3969, -5.4134, -5.5014, -5.4377, -5.32, -5.4353, -5.5471, -5.5625, -5.5044, -5.5326, -5.5297, -5.1076, -4.7781, -4.8843, -4.8255, -5.1364, -5.2306, -5.3279, -5.0758, -5.3771, -4.4, -4.7577, -4.7856, -4.8888, -4.9473, -5.0285, -5.2251, -5.2041, -5.1705, -5.2739, -5.2924, -5.2332, -5.1882, -5.2366, -5.3653, -5.3758, -5.4277, -5.4549, -5.5018, -5.4534, -5.5251, -5.4694, -5.482, -5.59, -5.5906, -5.6052, -5.4619, -5.4996, -5.6608, -5.6558, -5.0988, -5.4672, -5.4988, -5.4862, -5.5676, -4.5424, -4.9961, -5.3538, -5.2923, -5.4041, -5.3826, -5.421, -5.4153, -5.439, -5.4413, -4.4102, -4.4601, -4.5518, -4.6738, -4.8376, -4.9426, -4.9391, -5.0091, -5.0824, -5.1197, -5.159, -5.1936, -5.2136, -5.2402, -5.3004, -5.3052, -5.3703, -5.405, -5.4036, -5.4555, -5.374, -5.4695, -5.4609, -5.4803, -5.5327, -5.4936, -5.5722, -5.5314, -5.5447, -5.5086, -5.4878, -5.5106, -5.5038, -5.5142, -4.6734, -5.2778, -4.7275, -5.1304, -5.3768, -4.1258, -4.7369, -4.7414, -4.8037, -4.8402, -4.9319, -5.0085, -5.1456, -5.2545, -5.2485, -5.3091, -5.3556, -5.3053, -5.3815, -5.3169, -5.431, -5.3845, -5.5107, -5.2615, -5.5374, -5.5331, -5.5481, -5.4954, -5.6704, -5.6733, -5.727, -5.743, -5.7637, -5.774, -5.7709, -5.395, -5.4074, -5.4436, -5.476, -5.5159, -4.8154, -5.1417, -4.9938, -4.8479, -5.0842, -5.3216, -5.4396], \"loglift\": [30.0, 29.0, 28.0, 27.0, 26.0, 25.0, 24.0, 23.0, 22.0, 21.0, 20.0, 19.0, 18.0, 17.0, 16.0, 15.0, 14.0, 13.0, 12.0, 11.0, 10.0, 9.0, 8.0, 7.0, 6.0, 5.0, 4.0, 3.0, 2.0, 1.0, 1.3111, 1.3108, 1.3105, 1.3098, 1.3097, 1.3095, 1.3093, 1.3092, 1.3091, 1.309, 1.3088, 1.3086, 1.3084, 1.3082, 1.3082, 1.3081, 1.308, 1.3078, 1.3074, 1.3074, 1.3073, 1.3073, 1.3073, 1.3071, 1.3071, 1.307, 1.307, 1.3069, 1.3068, 1.3066, 1.3064, 1.3061, 1.3052, 1.1068, 0.9216, 0.8775, 0.6213, 0.6045, 0.7683, 0.9927, -0.0861, 1.0303, 1.3193, 1.3184, 1.3184, 1.318, 1.3178, 1.3175, 1.3167, 1.3166, 1.3165, 1.3165, 1.3163, 1.3162, 1.3162, 1.3162, 1.3159, 1.3158, 1.3156, 1.3155, 1.3152, 1.3152, 1.315, 1.3149, 1.3148, 1.3146, 1.3146, 1.3145, 1.3143, 1.3142, 1.3142, 1.3141, 1.3131, 1.3136, 1.3134, 1.3127, 1.3116, 0.4473, 0.6377, 0.9889, 0.833, 1.0321, 0.8826, 1.0331, 0.95, 0.9863, 0.8927, 1.4281, 1.428, 1.4275, 1.4274, 1.4267, 1.4263, 1.4263, 1.4261, 1.4257, 1.4255, 1.4253, 1.4252, 1.4251, 1.425, 1.4246, 1.4245, 1.4241, 1.4239, 1.4237, 1.4235, 1.4233, 1.4232, 1.4232, 1.4231, 1.4231, 1.423, 1.4229, 1.4229, 1.4229, 1.4228, 1.4226, 1.4227, 1.4222, 1.4207, 0.9109, 1.2444, 0.2622, 0.8579, 0.7948, 1.4891, 1.4875, 1.4875, 1.487, 1.487, 1.4867, 1.4862, 1.4859, 1.4853, 1.4853, 1.4849, 1.4847, 1.4847, 1.4845, 1.4844, 1.4843, 1.4842, 1.4836, 1.4836, 1.4834, 1.4833, 1.4832, 1.4828, 1.4824, 1.4821, 1.4817, 1.4816, 1.4814, 1.4813, 1.4812, 1.4807, 1.4807, 1.4796, 1.4782, 1.4706, 1.285, 1.3066, 1.2397, 0.7859, 1.0223, 0.2627, 0.7321]}, \"token.table\": {\"Topic\": [4, 3, 3, 1, 3, 3, 4, 1, 3, 4, 1, 4, 4, 4, 4, 3, 3, 3, 2, 4, 4, 1, 2, 3, 1, 1, 2, 1, 4, 2, 1, 1, 2, 1, 3, 2, 4, 1, 3, 4, 2, 2, 4, 4, 1, 1, 1, 2, 1, 2, 4, 2, 2, 2, 4, 2, 1, 1, 4, 1, 2, 1, 4, 2, 3, 2, 3, 1, 1, 2, 4, 1, 1, 2, 4, 1, 2, 3, 2, 1, 2, 3, 2, 4, 3, 1, 2, 3, 4, 4, 1, 4, 3, 4, 4, 3, 3, 3, 3, 4, 2, 3, 4, 3, 4, 2, 3, 1, 2, 2, 2, 3, 1, 3, 1, 2, 3, 4, 4, 1, 3, 3, 1, 2, 3, 4, 4, 2, 4, 2, 1, 2, 3, 4, 1, 2, 3, 4, 3, 2, 4, 1, 2, 2, 1, 4, 4, 2, 2, 3, 2, 2, 4, 1, 2, 3, 4, 1, 2, 3, 1, 1, 3, 3, 3, 4, 3, 2, 4, 2, 3, 2, 3, 2, 4, 1, 3, 2, 3, 1, 2, 3, 1, 1, 2, 4, 3, 2, 3, 4, 1, 3, 4, 1, 2, 1, 2, 1, 2, 2, 2, 4, 2], \"Freq\": [0.9918499030628517, 0.9929452557359695, 0.9905348925880136, 0.9982365157731553, 0.9899611893590867, 0.18259679171741336, 0.8129904774084833, 0.9945379574144411, 0.9976067875986991, 0.9942299028282631, 0.9973483405976309, 0.9980811528262554, 0.9903329626113538, 0.9877133141455037, 0.9931386027541201, 0.9900196961333645, 0.9944651165011589, 0.9920758308211685, 0.5043708109528463, 0.4934654961214334, 0.9982326102992103, 0.7506139287433167, 0.24232418172028336, 0.9984780593938977, 0.9954165398572727, 0.9914434892342201, 0.9928218409336983, 0.9903243909484118, 0.9941253527460644, 0.9937430844371798, 0.9919724686208291, 0.9980707385855376, 0.9903425480652795, 0.4353126567242279, 0.5635744216519022, 0.21850985135481288, 0.7796828786978551, 0.9963091579406756, 0.9941849716386909, 0.9909620877195027, 0.9970186486967005, 0.99460602775437, 0.9970667146939406, 0.9971187035904148, 0.9908324952269353, 0.9929012187987101, 0.9915144361196392, 0.996386846411215, 0.8136712174952647, 0.18514674410071894, 0.9910328763946057, 0.9959074337081719, 0.9972273711788742, 0.98790695617261, 0.9902439233900238, 0.9929987227810868, 0.9961301065689305, 0.7260777206924074, 0.27092452264642064, 0.9942258811241375, 0.994416867779755, 0.9969034770389674, 0.993469676443246, 0.992241715621361, 0.9880841696806982, 0.9921783687355243, 0.9931481620257605, 0.9965811720744279, 0.3059763432827952, 0.6912798866759448, 0.9936313897843702, 0.9965879371206755, 0.6756768458225568, 0.3232764219237233, 0.9936336838618429, 0.9955855955268124, 0.748125509128912, 0.24937516970963733, 0.9944646480044204, 0.3744054893512518, 0.615094732505628, 0.008914416413125043, 0.6535108015584816, 0.3459763067074314, 0.9934185147619607, 0.9972910076170814, 0.9913387868355987, 0.9964319039243095, 0.9963052946133535, 0.991103042636805, 0.9975064375685316, 0.9902075777933222, 0.37177702760003495, 0.6254601758447647, 0.9939424445461899, 0.996809897328797, 0.9973513212867969, 0.9979560342829734, 0.9927103349434623, 0.9898399878237615, 0.11157569545154364, 0.5942054478698487, 0.2932105485121961, 0.9935272057960359, 0.998679416401432, 0.16572294680021635, 0.8286147340010818, 0.9911777161285397, 0.9978647653244347, 0.9917032286296855, 0.7159714356124862, 0.28277863423350297, 0.9902305207107265, 0.9965891428390664, 0.49980455647133504, 0.17187849000824193, 0.122124190269014, 0.20580187619407914, 0.9931761871844195, 0.9878050239241223, 0.9893845228294346, 0.9971182052386195, 0.010545595051573538, 0.010545595051573538, 0.010545595051573538, 0.980740339796339, 0.9864743025166113, 0.16623233454139685, 0.8311616727069844, 0.9978892752591645, 0.6476511660455917, 0.3532642723885046, 0.9889297799386979, 0.9964167355060526, 0.246268427303179, 0.41665181596061096, 0.3106991204929642, 0.025772277275914083, 0.9920493834097592, 0.9913819509256399, 0.0059364188678182024, 0.9987502258207417, 0.9972156796000713, 0.9911068106709633, 0.9937587080316723, 0.9979078216612901, 0.9931561200587852, 0.9956713375581345, 0.9935889859760175, 0.9949636408864851, 0.9961754447048448, 0.9919363326627185, 0.9885158158204134, 0.4916050469336961, 0.26401011779772565, 0.11834936315070461, 0.12745316031614343, 0.9928202416774812, 0.9940409382954511, 0.9892370354577443, 0.9940494377401747, 0.9940279688494131, 0.9946258114026167, 0.9899893560554123, 0.009556998701332252, 0.9939278649385541, 0.9915356183389009, 0.9922647817313649, 0.9888431143105244, 0.9973720377845332, 0.9952082228518139, 0.994585803104517, 0.9908589451965882, 0.010209895606429258, 0.990359873823638, 0.9981474849819963, 0.9968535777505522, 0.6459594427189147, 0.3537396948222628, 0.9940182515328608, 0.9937935692879636, 0.9905976979509549, 0.993720818070353, 0.24769331462016736, 0.7492722767260063, 0.9926310664980912, 0.9936872391969785, 0.9907960803803801, 0.995255955992261, 0.9981290484503892, 0.997875471386489, 0.527559478899687, 0.4668667954864487, 0.5813332411373604, 0.41636029432810945, 0.9961360706541739, 0.9948369889217555, 0.2825245007662142, 0.7146207960557184, 0.9948239968170122, 0.9947437597669317, 0.9916991478432376, 0.9963365689186021], \"Term\": [\"abc\", \"accus\", \"appoint\", \"approv\", \"arm\", \"attack\", \"attack\", \"aussi\", \"australian\", \"back\", \"ban\", \"begin\", \"bid\", \"big\", \"blaze\", \"board\", \"bu\", \"busi\", \"call\", \"call\", \"car\", \"chang\", \"chang\", \"charg\", \"citi\", \"claim\", \"club\", \"coast\", \"collaps\", \"commun\", \"concern\", \"council\", \"countri\", \"court\", \"court\", \"crash\", \"crash\", \"cut\", \"day\", \"dead\", \"debat\", \"debt\", \"deni\", \"die\", \"disput\", \"doctor\", \"draw\", \"drought\", \"drug\", \"drug\", \"drum\", \"econom\", \"elect\", \"eye\", \"fail\", \"fall\", \"farmer\", \"fear\", \"fear\", \"figur\", \"final\", \"forc\", \"former\", \"found\", \"fourth\", \"friday\", \"full\", \"fund\", \"futur\", \"futur\", \"garrett\", \"govern\", \"govt\", \"govt\", \"great\", \"group\", \"health\", \"health\", \"held\", \"help\", \"help\", \"help\", \"hit\", \"hit\", \"hope\", \"hospit\", \"injuri\", \"interview\", \"iraq\", \"italian\", \"job\", \"judg\", \"kill\", \"kill\", \"labor\", \"latest\", \"lead\", \"leav\", \"line\", \"lock\", \"man\", \"man\", \"man\", \"market\", \"may\", \"melbourn\", \"melbourn\", \"men\", \"mine\", \"minist\", \"miss\", \"miss\", \"mp\", \"murder\", \"new\", \"new\", \"new\", \"new\", \"news\", \"next\", \"olymp\", \"open\", \"paint\", \"paint\", \"paint\", \"paint\", \"pakistan\", \"pay\", \"pay\", \"perth\", \"plan\", \"plan\", \"point\", \"pole\", \"polic\", \"polic\", \"polic\", \"polic\", \"pull\", \"qld\", \"qld\", \"question\", \"rate\", \"record\", \"reduc\", \"report\", \"resid\", \"review\", \"rise\", \"risk\", \"road\", \"run\", \"rural\", \"say\", \"say\", \"say\", \"say\", \"school\", \"search\", \"second\", \"seek\", \"set\", \"shoot\", \"sieg\", \"singapor\", \"singapor\", \"sold\", \"stage\", \"state\", \"station\", \"stori\", \"student\", \"success\", \"sunday\", \"sunday\", \"support\", \"sydney\", \"take\", \"take\", \"team\", \"telstra\", \"test\", \"titl\", \"trade\", \"trade\", \"train\", \"trial\", \"turnbul\", \"two\", \"union\", \"urg\", \"us\", \"us\", \"wa\", \"wa\", \"want\", \"warn\", \"water\", \"water\", \"win\", \"woman\", \"work\", \"world\"]}, \"R\": 30, \"lambda.step\": 0.01, \"plot.opts\": {\"xlab\": \"PC1\", \"ylab\": \"PC2\"}, \"topic.order\": [3, 2, 4, 1]};\n",
       "\n",
       "function LDAvis_load_lib(url, callback){\n",
       "  var s = document.createElement('script');\n",
       "  s.src = url;\n",
       "  s.async = true;\n",
       "  s.onreadystatechange = s.onload = callback;\n",
       "  s.onerror = function(){console.warn(\"failed to load library \" + url);};\n",
       "  document.getElementsByTagName(\"head\")[0].appendChild(s);\n",
       "}\n",
       "\n",
       "if(typeof(LDAvis) !== \"undefined\"){\n",
       "   // already loaded: just create the visualization\n",
       "   !function(LDAvis){\n",
       "       new LDAvis(\"#\" + \"ldavis_el501403189070621926189191570\", ldavis_el501403189070621926189191570_data);\n",
       "   }(LDAvis);\n",
       "}else if(typeof define === \"function\" && define.amd){\n",
       "   // require.js is available: use it to load d3/LDAvis\n",
       "   require.config({paths: {d3: \"https://d3js.org/d3.v5\"}});\n",
       "   require([\"d3\"], function(d3){\n",
       "      window.d3 = d3;\n",
       "      LDAvis_load_lib(\"https://cdn.jsdelivr.net/gh/bmabey/pyLDAvis@3.3.1/pyLDAvis/js/ldavis.v3.0.0.js\", function(){\n",
       "        new LDAvis(\"#\" + \"ldavis_el501403189070621926189191570\", ldavis_el501403189070621926189191570_data);\n",
       "      });\n",
       "    });\n",
       "}else{\n",
       "    // require.js not available: dynamically load d3 & LDAvis\n",
       "    LDAvis_load_lib(\"https://d3js.org/d3.v5.js\", function(){\n",
       "         LDAvis_load_lib(\"https://cdn.jsdelivr.net/gh/bmabey/pyLDAvis@3.3.1/pyLDAvis/js/ldavis.v3.0.0.js\", function(){\n",
       "                 new LDAvis(\"#\" + \"ldavis_el501403189070621926189191570\", ldavis_el501403189070621926189191570_data);\n",
       "            })\n",
       "         });\n",
       "}\n",
       "</script>"
      ],
      "text/plain": [
       "PreparedData(topic_coordinates=              x         y  topics  cluster       Freq\n",
       "topic                                                \n",
       "2      0.228494 -0.028622       1        1  26.892767\n",
       "1      0.149627 -0.010719       2        1  26.673315\n",
       "3     -0.219569 -0.235701       3        1  23.919312\n",
       "0     -0.158553  0.275042       4        1  22.514605, topic_info=          Term        Freq       Total Category  logprob  loglift\n",
       "1133    report  373.000000  373.000000  Default  30.0000  30.0000\n",
       "647   question  354.000000  354.000000  Default  29.0000  29.0000\n",
       "1043      mine  336.000000  336.000000  Default  28.0000  28.0000\n",
       "886     sydney  298.000000  298.000000  Default  27.0000  27.0000\n",
       "86       charg  284.000000  284.000000  Default  26.0000  26.0000\n",
       "...        ...         ...         ...      ...      ...      ...\n",
       "0        crash  156.610716  201.363919   Topic4  -4.9938   1.2397\n",
       "177       call  181.208659  366.793629   Topic4  -4.8479   0.7859\n",
       "688       kill  143.073493  228.631663   Topic4  -5.0842   1.0223\n",
       "139        man  112.838333  385.388590   Topic4  -5.3216   0.2627\n",
       "124         us  100.276468  214.193858   Topic4  -5.4396   0.7321\n",
       "\n",
       "[198 rows x 6 columns], token_table=      Topic      Freq     Term\n",
       "term                          \n",
       "496       4  0.991850      abc\n",
       "101       3  0.992945    accus\n",
       "833       3  0.990535  appoint\n",
       "68        1  0.998237   approv\n",
       "1411      3  0.989961      arm\n",
       "...     ...       ...      ...\n",
       "600       2  0.714621    water\n",
       "500       2  0.994824      win\n",
       "241       2  0.994744    woman\n",
       "279       4  0.991699     work\n",
       "151       2  0.996337    world\n",
       "\n",
       "[203 rows x 3 columns], R=30, lambda_step=0.01, plot_opts={'xlab': 'PC1', 'ylab': 'PC2'}, topic_order=[3, 2, 4, 1])"
      ]
     },
     "execution_count": 46,
     "metadata": {},
     "output_type": "execute_result"
    }
   ],
   "source": [
    "# TODO: show visualization results of the LDA\n",
    "import pyLDAvis\n",
    "import pyLDAvis.gensim_models as gensimvis\n",
    "\n",
    "pyLDAvis.enable_notebook()\n",
    "\n",
    "lda_viz = gensimvis.prepare(lda, corpus, dictionary)\n",
    "lda_viz"
   ]
  },
  {
   "cell_type": "markdown",
   "metadata": {},
   "source": [
    "Depending on your results, you can try to fine tune the algorithm: number of topics, hyperparameters...\n",
    "And check with others their results."
   ]
  }
 ],
 "metadata": {
  "kernelspec": {
   "display_name": "Python 3 (ipykernel)",
   "language": "python",
   "name": "python3"
  },
  "language_info": {
   "codemirror_mode": {
    "name": "ipython",
    "version": 3
   },
   "file_extension": ".py",
   "mimetype": "text/x-python",
   "name": "python",
   "nbconvert_exporter": "python",
   "pygments_lexer": "ipython3",
   "version": "3.9.7"
  },
  "toc": {
   "base_numbering": 1,
   "nav_menu": {},
   "number_sections": true,
   "sideBar": true,
   "skip_h1_title": false,
   "title_cell": "Table of Contents",
   "title_sidebar": "Contents",
   "toc_cell": false,
   "toc_position": {},
   "toc_section_display": true,
   "toc_window_display": false
  }
 },
 "nbformat": 4,
 "nbformat_minor": 4
}
